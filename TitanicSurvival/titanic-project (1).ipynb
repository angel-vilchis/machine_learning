{
 "cells": [
  {
   "cell_type": "code",
   "execution_count": 1,
   "id": "killing-forest",
   "metadata": {
    "_cell_guid": "b1076dfc-b9ad-4769-8c92-a6c4dae69d19",
    "_uuid": "8f2839f25d086af736a60e9eeb907d3b93b6e0e5",
    "execution": {
     "iopub.execute_input": "2021-09-05T07:37:10.400056Z",
     "iopub.status.busy": "2021-09-05T07:37:10.398276Z",
     "iopub.status.idle": "2021-09-05T07:37:11.770473Z",
     "shell.execute_reply": "2021-09-05T07:37:11.771024Z",
     "shell.execute_reply.started": "2021-09-05T07:36:38.116606Z"
    },
    "papermill": {
     "duration": 1.401446,
     "end_time": "2021-09-05T07:37:11.771353",
     "exception": false,
     "start_time": "2021-09-05T07:37:10.369907",
     "status": "completed"
    },
    "tags": []
   },
   "outputs": [
    {
     "name": "stdout",
     "output_type": "stream",
     "text": [
      "/kaggle/input/titanic/train.csv\n",
      "/kaggle/input/titanic/test.csv\n",
      "/kaggle/input/titanic/gender_submission.csv\n"
     ]
    }
   ],
   "source": [
    "import numpy as np # linear algebra\n",
    "import pandas as pd # data processing, CSV file I/O (e.g. pd.read_csv)\n",
    "import matplotlib.pyplot as plt\n",
    "import seaborn as sns\n",
    "\n",
    "from sklearn.neighbors import KNeighborsClassifier\n",
    "from sklearn.svm import SVC\n",
    "from sklearn.tree import DecisionTreeClassifier\n",
    "from sklearn.ensemble import RandomForestClassifier\n",
    "from sklearn import model_selection\n",
    "from sklearn.model_selection import train_test_split\n",
    "from sklearn.metrics import accuracy_score\n",
    "models = [\n",
    "         KNeighborsClassifier(3),\n",
    "         SVC(),\n",
    "         DecisionTreeClassifier(),\n",
    "         RandomForestClassifier(),\n",
    "         ]\n",
    "\n",
    "import os\n",
    "for dirname, _, filenames in os.walk('/kaggle/input'):\n",
    "    for filename in filenames:\n",
    "        print(os.path.join(dirname, filename))"
   ]
  },
  {
   "cell_type": "code",
   "execution_count": 2,
   "id": "interstate-diesel",
   "metadata": {
    "execution": {
     "iopub.execute_input": "2021-09-05T07:37:11.823025Z",
     "iopub.status.busy": "2021-09-05T07:37:11.822260Z",
     "iopub.status.idle": "2021-09-05T07:37:11.848647Z",
     "shell.execute_reply": "2021-09-05T07:37:11.847989Z",
     "shell.execute_reply.started": "2021-09-05T07:36:38.521874Z"
    },
    "papermill": {
     "duration": 0.053818,
     "end_time": "2021-09-05T07:37:11.848831",
     "exception": false,
     "start_time": "2021-09-05T07:37:11.795013",
     "status": "completed"
    },
    "tags": []
   },
   "outputs": [],
   "source": [
    "training = pd.read_csv('/kaggle/input/titanic/train.csv')\n",
    "test = pd.read_csv('/kaggle/input/titanic/test.csv')"
   ]
  },
  {
   "cell_type": "code",
   "execution_count": 3,
   "id": "broken-omega",
   "metadata": {
    "execution": {
     "iopub.execute_input": "2021-09-05T07:37:11.901080Z",
     "iopub.status.busy": "2021-09-05T07:37:11.900420Z",
     "iopub.status.idle": "2021-09-05T07:37:11.903160Z",
     "shell.execute_reply": "2021-09-05T07:37:11.903890Z",
     "shell.execute_reply.started": "2021-09-05T07:36:38.540345Z"
    },
    "papermill": {
     "duration": 0.032179,
     "end_time": "2021-09-05T07:37:11.904109",
     "exception": false,
     "start_time": "2021-09-05T07:37:11.871930",
     "status": "completed"
    },
    "tags": []
   },
   "outputs": [
    {
     "name": "stdout",
     "output_type": "stream",
     "text": [
      "(891, 12) (418, 11)\n"
     ]
    }
   ],
   "source": [
    "print(training.shape, test.shape)"
   ]
  },
  {
   "cell_type": "code",
   "execution_count": 4,
   "id": "expensive-valuation",
   "metadata": {
    "execution": {
     "iopub.execute_input": "2021-09-05T07:37:11.955695Z",
     "iopub.status.busy": "2021-09-05T07:37:11.955012Z",
     "iopub.status.idle": "2021-09-05T07:37:11.989494Z",
     "shell.execute_reply": "2021-09-05T07:37:11.988880Z",
     "shell.execute_reply.started": "2021-09-05T07:36:38.548034Z"
    },
    "papermill": {
     "duration": 0.060839,
     "end_time": "2021-09-05T07:37:11.989644",
     "exception": false,
     "start_time": "2021-09-05T07:37:11.928805",
     "status": "completed"
    },
    "tags": []
   },
   "outputs": [
    {
     "data": {
      "text/html": [
       "<div>\n",
       "<style scoped>\n",
       "    .dataframe tbody tr th:only-of-type {\n",
       "        vertical-align: middle;\n",
       "    }\n",
       "\n",
       "    .dataframe tbody tr th {\n",
       "        vertical-align: top;\n",
       "    }\n",
       "\n",
       "    .dataframe thead th {\n",
       "        text-align: right;\n",
       "    }\n",
       "</style>\n",
       "<table border=\"1\" class=\"dataframe\">\n",
       "  <thead>\n",
       "    <tr style=\"text-align: right;\">\n",
       "      <th></th>\n",
       "      <th>PassengerId</th>\n",
       "      <th>Survived</th>\n",
       "      <th>Pclass</th>\n",
       "      <th>Name</th>\n",
       "      <th>Sex</th>\n",
       "      <th>Age</th>\n",
       "      <th>SibSp</th>\n",
       "      <th>Parch</th>\n",
       "      <th>Ticket</th>\n",
       "      <th>Fare</th>\n",
       "      <th>Cabin</th>\n",
       "      <th>Embarked</th>\n",
       "    </tr>\n",
       "  </thead>\n",
       "  <tbody>\n",
       "    <tr>\n",
       "      <th>0</th>\n",
       "      <td>1</td>\n",
       "      <td>0</td>\n",
       "      <td>3</td>\n",
       "      <td>Braund, Mr. Owen Harris</td>\n",
       "      <td>male</td>\n",
       "      <td>22.0</td>\n",
       "      <td>1</td>\n",
       "      <td>0</td>\n",
       "      <td>A/5 21171</td>\n",
       "      <td>7.2500</td>\n",
       "      <td>NaN</td>\n",
       "      <td>S</td>\n",
       "    </tr>\n",
       "    <tr>\n",
       "      <th>1</th>\n",
       "      <td>2</td>\n",
       "      <td>1</td>\n",
       "      <td>1</td>\n",
       "      <td>Cumings, Mrs. John Bradley (Florence Briggs Th...</td>\n",
       "      <td>female</td>\n",
       "      <td>38.0</td>\n",
       "      <td>1</td>\n",
       "      <td>0</td>\n",
       "      <td>PC 17599</td>\n",
       "      <td>71.2833</td>\n",
       "      <td>C85</td>\n",
       "      <td>C</td>\n",
       "    </tr>\n",
       "    <tr>\n",
       "      <th>2</th>\n",
       "      <td>3</td>\n",
       "      <td>1</td>\n",
       "      <td>3</td>\n",
       "      <td>Heikkinen, Miss. Laina</td>\n",
       "      <td>female</td>\n",
       "      <td>26.0</td>\n",
       "      <td>0</td>\n",
       "      <td>0</td>\n",
       "      <td>STON/O2. 3101282</td>\n",
       "      <td>7.9250</td>\n",
       "      <td>NaN</td>\n",
       "      <td>S</td>\n",
       "    </tr>\n",
       "    <tr>\n",
       "      <th>3</th>\n",
       "      <td>4</td>\n",
       "      <td>1</td>\n",
       "      <td>1</td>\n",
       "      <td>Futrelle, Mrs. Jacques Heath (Lily May Peel)</td>\n",
       "      <td>female</td>\n",
       "      <td>35.0</td>\n",
       "      <td>1</td>\n",
       "      <td>0</td>\n",
       "      <td>113803</td>\n",
       "      <td>53.1000</td>\n",
       "      <td>C123</td>\n",
       "      <td>S</td>\n",
       "    </tr>\n",
       "    <tr>\n",
       "      <th>4</th>\n",
       "      <td>5</td>\n",
       "      <td>0</td>\n",
       "      <td>3</td>\n",
       "      <td>Allen, Mr. William Henry</td>\n",
       "      <td>male</td>\n",
       "      <td>35.0</td>\n",
       "      <td>0</td>\n",
       "      <td>0</td>\n",
       "      <td>373450</td>\n",
       "      <td>8.0500</td>\n",
       "      <td>NaN</td>\n",
       "      <td>S</td>\n",
       "    </tr>\n",
       "  </tbody>\n",
       "</table>\n",
       "</div>"
      ],
      "text/plain": [
       "   PassengerId  Survived  Pclass  \\\n",
       "0            1         0       3   \n",
       "1            2         1       1   \n",
       "2            3         1       3   \n",
       "3            4         1       1   \n",
       "4            5         0       3   \n",
       "\n",
       "                                                Name     Sex   Age  SibSp  \\\n",
       "0                            Braund, Mr. Owen Harris    male  22.0      1   \n",
       "1  Cumings, Mrs. John Bradley (Florence Briggs Th...  female  38.0      1   \n",
       "2                             Heikkinen, Miss. Laina  female  26.0      0   \n",
       "3       Futrelle, Mrs. Jacques Heath (Lily May Peel)  female  35.0      1   \n",
       "4                           Allen, Mr. William Henry    male  35.0      0   \n",
       "\n",
       "   Parch            Ticket     Fare Cabin Embarked  \n",
       "0      0         A/5 21171   7.2500   NaN        S  \n",
       "1      0          PC 17599  71.2833   C85        C  \n",
       "2      0  STON/O2. 3101282   7.9250   NaN        S  \n",
       "3      0            113803  53.1000  C123        S  \n",
       "4      0            373450   8.0500   NaN        S  "
      ]
     },
     "execution_count": 4,
     "metadata": {},
     "output_type": "execute_result"
    }
   ],
   "source": [
    "# Visualizing structure of dataset\n",
    "# passengerId and name can definitely be dropped \n",
    "training.head()"
   ]
  },
  {
   "cell_type": "code",
   "execution_count": 5,
   "id": "labeled-uruguay",
   "metadata": {
    "execution": {
     "iopub.execute_input": "2021-09-05T07:37:12.043335Z",
     "iopub.status.busy": "2021-09-05T07:37:12.042651Z",
     "iopub.status.idle": "2021-09-05T07:37:12.056316Z",
     "shell.execute_reply": "2021-09-05T07:37:12.056784Z",
     "shell.execute_reply.started": "2021-09-05T07:36:38.582059Z"
    },
    "papermill": {
     "duration": 0.042632,
     "end_time": "2021-09-05T07:37:12.056986",
     "exception": false,
     "start_time": "2021-09-05T07:37:12.014354",
     "status": "completed"
    },
    "tags": []
   },
   "outputs": [
    {
     "data": {
      "text/plain": [
       "PassengerId    891\n",
       "Survived         2\n",
       "Pclass           3\n",
       "Name           891\n",
       "Sex              2\n",
       "Age             89\n",
       "SibSp            7\n",
       "Parch            7\n",
       "Ticket         681\n",
       "Fare           248\n",
       "Cabin          148\n",
       "Embarked         4\n",
       "dtype: int64"
      ]
     },
     "execution_count": 5,
     "metadata": {},
     "output_type": "execute_result"
    }
   ],
   "source": [
    "# Unique values\n",
    "training.apply(lambda x: len(x.unique()))"
   ]
  },
  {
   "cell_type": "code",
   "execution_count": 6,
   "id": "empirical-april",
   "metadata": {
    "execution": {
     "iopub.execute_input": "2021-09-05T07:37:12.114143Z",
     "iopub.status.busy": "2021-09-05T07:37:12.113500Z",
     "iopub.status.idle": "2021-09-05T07:37:12.116382Z",
     "shell.execute_reply": "2021-09-05T07:37:12.116942Z",
     "shell.execute_reply.started": "2021-09-05T07:36:38.599251Z"
    },
    "papermill": {
     "duration": 0.036143,
     "end_time": "2021-09-05T07:37:12.117113",
     "exception": false,
     "start_time": "2021-09-05T07:37:12.080970",
     "status": "completed"
    },
    "tags": []
   },
   "outputs": [
    {
     "data": {
      "text/plain": [
       "PassengerId      0\n",
       "Survived         0\n",
       "Pclass           0\n",
       "Name             0\n",
       "Sex              0\n",
       "Age            177\n",
       "SibSp            0\n",
       "Parch            0\n",
       "Ticket           0\n",
       "Fare             0\n",
       "Cabin          687\n",
       "Embarked         2\n",
       "dtype: int64"
      ]
     },
     "execution_count": 6,
     "metadata": {},
     "output_type": "execute_result"
    }
   ],
   "source": [
    "# Null values\n",
    "# age has lots of nulls lets see if it is correlated to survived\n",
    "training.isnull().sum()"
   ]
  },
  {
   "cell_type": "code",
   "execution_count": 7,
   "id": "scientific-offense",
   "metadata": {
    "execution": {
     "iopub.execute_input": "2021-09-05T07:37:12.168587Z",
     "iopub.status.busy": "2021-09-05T07:37:12.167884Z",
     "iopub.status.idle": "2021-09-05T07:37:12.184171Z",
     "shell.execute_reply": "2021-09-05T07:37:12.184753Z",
     "shell.execute_reply.started": "2021-09-05T07:36:38.612346Z"
    },
    "papermill": {
     "duration": 0.043714,
     "end_time": "2021-09-05T07:37:12.184918",
     "exception": false,
     "start_time": "2021-09-05T07:37:12.141204",
     "status": "completed"
    },
    "tags": []
   },
   "outputs": [
    {
     "data": {
      "text/html": [
       "<div>\n",
       "<style scoped>\n",
       "    .dataframe tbody tr th:only-of-type {\n",
       "        vertical-align: middle;\n",
       "    }\n",
       "\n",
       "    .dataframe tbody tr th {\n",
       "        vertical-align: top;\n",
       "    }\n",
       "\n",
       "    .dataframe thead th {\n",
       "        text-align: right;\n",
       "    }\n",
       "</style>\n",
       "<table border=\"1\" class=\"dataframe\">\n",
       "  <thead>\n",
       "    <tr style=\"text-align: right;\">\n",
       "      <th></th>\n",
       "      <th>PassengerId</th>\n",
       "      <th>Survived</th>\n",
       "      <th>Pclass</th>\n",
       "      <th>Age</th>\n",
       "      <th>SibSp</th>\n",
       "      <th>Parch</th>\n",
       "      <th>Fare</th>\n",
       "    </tr>\n",
       "  </thead>\n",
       "  <tbody>\n",
       "    <tr>\n",
       "      <th>PassengerId</th>\n",
       "      <td>1.000000</td>\n",
       "      <td>-0.005007</td>\n",
       "      <td>-0.035144</td>\n",
       "      <td>0.036847</td>\n",
       "      <td>-0.057527</td>\n",
       "      <td>-0.001652</td>\n",
       "      <td>0.012658</td>\n",
       "    </tr>\n",
       "    <tr>\n",
       "      <th>Survived</th>\n",
       "      <td>-0.005007</td>\n",
       "      <td>1.000000</td>\n",
       "      <td>-0.338481</td>\n",
       "      <td>-0.077221</td>\n",
       "      <td>-0.035322</td>\n",
       "      <td>0.081629</td>\n",
       "      <td>0.257307</td>\n",
       "    </tr>\n",
       "    <tr>\n",
       "      <th>Pclass</th>\n",
       "      <td>-0.035144</td>\n",
       "      <td>-0.338481</td>\n",
       "      <td>1.000000</td>\n",
       "      <td>-0.369226</td>\n",
       "      <td>0.083081</td>\n",
       "      <td>0.018443</td>\n",
       "      <td>-0.549500</td>\n",
       "    </tr>\n",
       "    <tr>\n",
       "      <th>Age</th>\n",
       "      <td>0.036847</td>\n",
       "      <td>-0.077221</td>\n",
       "      <td>-0.369226</td>\n",
       "      <td>1.000000</td>\n",
       "      <td>-0.308247</td>\n",
       "      <td>-0.189119</td>\n",
       "      <td>0.096067</td>\n",
       "    </tr>\n",
       "    <tr>\n",
       "      <th>SibSp</th>\n",
       "      <td>-0.057527</td>\n",
       "      <td>-0.035322</td>\n",
       "      <td>0.083081</td>\n",
       "      <td>-0.308247</td>\n",
       "      <td>1.000000</td>\n",
       "      <td>0.414838</td>\n",
       "      <td>0.159651</td>\n",
       "    </tr>\n",
       "    <tr>\n",
       "      <th>Parch</th>\n",
       "      <td>-0.001652</td>\n",
       "      <td>0.081629</td>\n",
       "      <td>0.018443</td>\n",
       "      <td>-0.189119</td>\n",
       "      <td>0.414838</td>\n",
       "      <td>1.000000</td>\n",
       "      <td>0.216225</td>\n",
       "    </tr>\n",
       "    <tr>\n",
       "      <th>Fare</th>\n",
       "      <td>0.012658</td>\n",
       "      <td>0.257307</td>\n",
       "      <td>-0.549500</td>\n",
       "      <td>0.096067</td>\n",
       "      <td>0.159651</td>\n",
       "      <td>0.216225</td>\n",
       "      <td>1.000000</td>\n",
       "    </tr>\n",
       "  </tbody>\n",
       "</table>\n",
       "</div>"
      ],
      "text/plain": [
       "             PassengerId  Survived    Pclass       Age     SibSp     Parch  \\\n",
       "PassengerId     1.000000 -0.005007 -0.035144  0.036847 -0.057527 -0.001652   \n",
       "Survived       -0.005007  1.000000 -0.338481 -0.077221 -0.035322  0.081629   \n",
       "Pclass         -0.035144 -0.338481  1.000000 -0.369226  0.083081  0.018443   \n",
       "Age             0.036847 -0.077221 -0.369226  1.000000 -0.308247 -0.189119   \n",
       "SibSp          -0.057527 -0.035322  0.083081 -0.308247  1.000000  0.414838   \n",
       "Parch          -0.001652  0.081629  0.018443 -0.189119  0.414838  1.000000   \n",
       "Fare            0.012658  0.257307 -0.549500  0.096067  0.159651  0.216225   \n",
       "\n",
       "                 Fare  \n",
       "PassengerId  0.012658  \n",
       "Survived     0.257307  \n",
       "Pclass      -0.549500  \n",
       "Age          0.096067  \n",
       "SibSp        0.159651  \n",
       "Parch        0.216225  \n",
       "Fare         1.000000  "
      ]
     },
     "execution_count": 7,
     "metadata": {},
     "output_type": "execute_result"
    }
   ],
   "source": [
    "# Correlation Matrix\n",
    "# fare and pclass seem to be only features that correlate with survived\n",
    "# age had lots of nulls but not correlated anyways\n",
    "corr = training.corr()\n",
    "corr"
   ]
  },
  {
   "cell_type": "code",
   "execution_count": 8,
   "id": "meaningful-syracuse",
   "metadata": {
    "execution": {
     "iopub.execute_input": "2021-09-05T07:37:12.237604Z",
     "iopub.status.busy": "2021-09-05T07:37:12.236919Z",
     "iopub.status.idle": "2021-09-05T07:37:12.244516Z",
     "shell.execute_reply": "2021-09-05T07:37:12.243949Z",
     "shell.execute_reply.started": "2021-09-05T07:36:38.635627Z"
    },
    "papermill": {
     "duration": 0.035088,
     "end_time": "2021-09-05T07:37:12.244658",
     "exception": false,
     "start_time": "2021-09-05T07:37:12.209570",
     "status": "completed"
    },
    "tags": []
   },
   "outputs": [],
   "source": [
    "# Dropping irrelevant columns\n",
    "training = training.drop(columns=['PassengerId', 'Name', 'Age', 'Ticket', 'Cabin', 'Embarked'])"
   ]
  },
  {
   "cell_type": "code",
   "execution_count": 9,
   "id": "cloudy-square",
   "metadata": {
    "execution": {
     "iopub.execute_input": "2021-09-05T07:37:12.298084Z",
     "iopub.status.busy": "2021-09-05T07:37:12.297134Z",
     "iopub.status.idle": "2021-09-05T07:37:12.316198Z",
     "shell.execute_reply": "2021-09-05T07:37:12.315465Z",
     "shell.execute_reply.started": "2021-09-05T07:36:38.646227Z"
    },
    "papermill": {
     "duration": 0.046799,
     "end_time": "2021-09-05T07:37:12.316406",
     "exception": false,
     "start_time": "2021-09-05T07:37:12.269607",
     "status": "completed"
    },
    "tags": []
   },
   "outputs": [
    {
     "name": "stdout",
     "output_type": "stream",
     "text": [
      "<class 'pandas.core.frame.DataFrame'>\n",
      "RangeIndex: 891 entries, 0 to 890\n",
      "Data columns (total 6 columns):\n",
      " #   Column    Non-Null Count  Dtype  \n",
      "---  ------    --------------  -----  \n",
      " 0   Survived  891 non-null    int64  \n",
      " 1   Pclass    891 non-null    int64  \n",
      " 2   Sex       891 non-null    object \n",
      " 3   SibSp     891 non-null    int64  \n",
      " 4   Parch     891 non-null    int64  \n",
      " 5   Fare      891 non-null    float64\n",
      "dtypes: float64(1), int64(4), object(1)\n",
      "memory usage: 41.9+ KB\n"
     ]
    }
   ],
   "source": [
    "# Datatype info\n",
    "# need to change sex to category\n",
    "training.info()"
   ]
  },
  {
   "cell_type": "code",
   "execution_count": 10,
   "id": "dominican-latvia",
   "metadata": {
    "execution": {
     "iopub.execute_input": "2021-09-05T07:37:12.380760Z",
     "iopub.status.busy": "2021-09-05T07:37:12.379681Z",
     "iopub.status.idle": "2021-09-05T07:37:12.390425Z",
     "shell.execute_reply": "2021-09-05T07:37:12.390953Z",
     "shell.execute_reply.started": "2021-09-05T07:36:38.671362Z"
    },
    "papermill": {
     "duration": 0.048735,
     "end_time": "2021-09-05T07:37:12.391129",
     "exception": false,
     "start_time": "2021-09-05T07:37:12.342394",
     "status": "completed"
    },
    "tags": []
   },
   "outputs": [],
   "source": [
    "# Changing categorical features to category and one-hot encoding categorical features\n",
    "cols = ['Sex', 'Pclass', 'SibSp', 'Parch']\n",
    "for col in cols:\n",
    "    training[col] = training[col].astype('category')\n",
    "\n",
    "cols = ['Sex', 'Pclass', 'SibSp', 'Parch']\n",
    "\n",
    "for col in cols:\n",
    "    training = pd.concat([training, pd.get_dummies(training[col], prefix=col, drop_first=True)], axis=1)\n",
    "training = training.drop(columns=cols)"
   ]
  },
  {
   "cell_type": "code",
   "execution_count": 11,
   "id": "educated-assembly",
   "metadata": {
    "execution": {
     "iopub.execute_input": "2021-09-05T07:37:12.445607Z",
     "iopub.status.busy": "2021-09-05T07:37:12.444632Z",
     "iopub.status.idle": "2021-09-05T07:37:12.478688Z",
     "shell.execute_reply": "2021-09-05T07:37:12.477980Z",
     "shell.execute_reply.started": "2021-09-05T07:36:38.692579Z"
    },
    "papermill": {
     "duration": 0.062307,
     "end_time": "2021-09-05T07:37:12.478843",
     "exception": false,
     "start_time": "2021-09-05T07:37:12.416536",
     "status": "completed"
    },
    "tags": []
   },
   "outputs": [
    {
     "data": {
      "text/html": [
       "<div>\n",
       "<style scoped>\n",
       "    .dataframe tbody tr th:only-of-type {\n",
       "        vertical-align: middle;\n",
       "    }\n",
       "\n",
       "    .dataframe tbody tr th {\n",
       "        vertical-align: top;\n",
       "    }\n",
       "\n",
       "    .dataframe thead th {\n",
       "        text-align: right;\n",
       "    }\n",
       "</style>\n",
       "<table border=\"1\" class=\"dataframe\">\n",
       "  <thead>\n",
       "    <tr style=\"text-align: right;\">\n",
       "      <th></th>\n",
       "      <th>Survived</th>\n",
       "      <th>Fare</th>\n",
       "      <th>Sex_male</th>\n",
       "      <th>Pclass_2</th>\n",
       "      <th>Pclass_3</th>\n",
       "      <th>SibSp_1</th>\n",
       "      <th>SibSp_2</th>\n",
       "      <th>SibSp_3</th>\n",
       "      <th>SibSp_4</th>\n",
       "      <th>SibSp_5</th>\n",
       "      <th>SibSp_8</th>\n",
       "      <th>Parch_1</th>\n",
       "      <th>Parch_2</th>\n",
       "      <th>Parch_3</th>\n",
       "      <th>Parch_4</th>\n",
       "      <th>Parch_5</th>\n",
       "      <th>Parch_6</th>\n",
       "    </tr>\n",
       "  </thead>\n",
       "  <tbody>\n",
       "    <tr>\n",
       "      <th>0</th>\n",
       "      <td>0</td>\n",
       "      <td>0.014151</td>\n",
       "      <td>1</td>\n",
       "      <td>0</td>\n",
       "      <td>1</td>\n",
       "      <td>1</td>\n",
       "      <td>0</td>\n",
       "      <td>0</td>\n",
       "      <td>0</td>\n",
       "      <td>0</td>\n",
       "      <td>0</td>\n",
       "      <td>0</td>\n",
       "      <td>0</td>\n",
       "      <td>0</td>\n",
       "      <td>0</td>\n",
       "      <td>0</td>\n",
       "      <td>0</td>\n",
       "    </tr>\n",
       "    <tr>\n",
       "      <th>1</th>\n",
       "      <td>1</td>\n",
       "      <td>0.139136</td>\n",
       "      <td>0</td>\n",
       "      <td>0</td>\n",
       "      <td>0</td>\n",
       "      <td>1</td>\n",
       "      <td>0</td>\n",
       "      <td>0</td>\n",
       "      <td>0</td>\n",
       "      <td>0</td>\n",
       "      <td>0</td>\n",
       "      <td>0</td>\n",
       "      <td>0</td>\n",
       "      <td>0</td>\n",
       "      <td>0</td>\n",
       "      <td>0</td>\n",
       "      <td>0</td>\n",
       "    </tr>\n",
       "    <tr>\n",
       "      <th>2</th>\n",
       "      <td>1</td>\n",
       "      <td>0.015469</td>\n",
       "      <td>0</td>\n",
       "      <td>0</td>\n",
       "      <td>1</td>\n",
       "      <td>0</td>\n",
       "      <td>0</td>\n",
       "      <td>0</td>\n",
       "      <td>0</td>\n",
       "      <td>0</td>\n",
       "      <td>0</td>\n",
       "      <td>0</td>\n",
       "      <td>0</td>\n",
       "      <td>0</td>\n",
       "      <td>0</td>\n",
       "      <td>0</td>\n",
       "      <td>0</td>\n",
       "    </tr>\n",
       "    <tr>\n",
       "      <th>3</th>\n",
       "      <td>1</td>\n",
       "      <td>0.103644</td>\n",
       "      <td>0</td>\n",
       "      <td>0</td>\n",
       "      <td>0</td>\n",
       "      <td>1</td>\n",
       "      <td>0</td>\n",
       "      <td>0</td>\n",
       "      <td>0</td>\n",
       "      <td>0</td>\n",
       "      <td>0</td>\n",
       "      <td>0</td>\n",
       "      <td>0</td>\n",
       "      <td>0</td>\n",
       "      <td>0</td>\n",
       "      <td>0</td>\n",
       "      <td>0</td>\n",
       "    </tr>\n",
       "    <tr>\n",
       "      <th>4</th>\n",
       "      <td>0</td>\n",
       "      <td>0.015713</td>\n",
       "      <td>1</td>\n",
       "      <td>0</td>\n",
       "      <td>1</td>\n",
       "      <td>0</td>\n",
       "      <td>0</td>\n",
       "      <td>0</td>\n",
       "      <td>0</td>\n",
       "      <td>0</td>\n",
       "      <td>0</td>\n",
       "      <td>0</td>\n",
       "      <td>0</td>\n",
       "      <td>0</td>\n",
       "      <td>0</td>\n",
       "      <td>0</td>\n",
       "      <td>0</td>\n",
       "    </tr>\n",
       "  </tbody>\n",
       "</table>\n",
       "</div>"
      ],
      "text/plain": [
       "   Survived      Fare  Sex_male  Pclass_2  Pclass_3  SibSp_1  SibSp_2  \\\n",
       "0         0  0.014151         1         0         1        1        0   \n",
       "1         1  0.139136         0         0         0        1        0   \n",
       "2         1  0.015469         0         0         1        0        0   \n",
       "3         1  0.103644         0         0         0        1        0   \n",
       "4         0  0.015713         1         0         1        0        0   \n",
       "\n",
       "   SibSp_3  SibSp_4  SibSp_5  SibSp_8  Parch_1  Parch_2  Parch_3  Parch_4  \\\n",
       "0        0        0        0        0        0        0        0        0   \n",
       "1        0        0        0        0        0        0        0        0   \n",
       "2        0        0        0        0        0        0        0        0   \n",
       "3        0        0        0        0        0        0        0        0   \n",
       "4        0        0        0        0        0        0        0        0   \n",
       "\n",
       "   Parch_5  Parch_6  \n",
       "0        0        0  \n",
       "1        0        0  \n",
       "2        0        0  \n",
       "3        0        0  \n",
       "4        0        0  "
      ]
     },
     "execution_count": 11,
     "metadata": {},
     "output_type": "execute_result"
    }
   ],
   "source": [
    "# Now to normalize fare\n",
    "training['Fare'] = (training['Fare'] - training['Fare'].min()) / (training['Fare'].max() - training['Fare'].min())\n",
    "training.head()"
   ]
  },
  {
   "cell_type": "code",
   "execution_count": 12,
   "id": "ecological-webster",
   "metadata": {
    "execution": {
     "iopub.execute_input": "2021-09-05T07:37:12.537772Z",
     "iopub.status.busy": "2021-09-05T07:37:12.537064Z",
     "iopub.status.idle": "2021-09-05T07:37:12.540374Z",
     "shell.execute_reply": "2021-09-05T07:37:12.539737Z",
     "shell.execute_reply.started": "2021-09-05T07:36:38.716142Z"
    },
    "papermill": {
     "duration": 0.035461,
     "end_time": "2021-09-05T07:37:12.540522",
     "exception": false,
     "start_time": "2021-09-05T07:37:12.505061",
     "status": "completed"
    },
    "tags": []
   },
   "outputs": [],
   "source": [
    "# Getting X and y\n",
    "X = training.drop(columns=['Survived'])\n",
    "y = training['Survived']"
   ]
  },
  {
   "cell_type": "code",
   "execution_count": 13,
   "id": "english-duplicate",
   "metadata": {
    "execution": {
     "iopub.execute_input": "2021-09-05T07:37:12.599381Z",
     "iopub.status.busy": "2021-09-05T07:37:12.598696Z",
     "iopub.status.idle": "2021-09-05T07:37:12.602081Z",
     "shell.execute_reply": "2021-09-05T07:37:12.601459Z",
     "shell.execute_reply.started": "2021-09-05T07:36:38.723355Z"
    },
    "papermill": {
     "duration": 0.035527,
     "end_time": "2021-09-05T07:37:12.602268",
     "exception": false,
     "start_time": "2021-09-05T07:37:12.566741",
     "status": "completed"
    },
    "tags": []
   },
   "outputs": [],
   "source": [
    "# K Fold cross validation \n",
    "def train(model):\n",
    "    kfold = model_selection.KFold(n_splits=5, shuffle=True, random_state=42)\n",
    "    pred = model_selection.cross_val_score(model, X, y, cv=kfold, scoring='roc_auc')\n",
    "    cv_score = pred.mean()\n",
    "    print(f'Model: {model} CV Score: {cv_score}')"
   ]
  },
  {
   "cell_type": "code",
   "execution_count": 14,
   "id": "auburn-genius",
   "metadata": {
    "execution": {
     "iopub.execute_input": "2021-09-05T07:37:12.662079Z",
     "iopub.status.busy": "2021-09-05T07:37:12.661258Z",
     "iopub.status.idle": "2021-09-05T07:37:14.149951Z",
     "shell.execute_reply": "2021-09-05T07:37:14.149261Z",
     "shell.execute_reply.started": "2021-09-05T07:36:38.732463Z"
    },
    "papermill": {
     "duration": 1.520993,
     "end_time": "2021-09-05T07:37:14.150094",
     "exception": false,
     "start_time": "2021-09-05T07:37:12.629101",
     "status": "completed"
    },
    "tags": []
   },
   "outputs": [
    {
     "name": "stdout",
     "output_type": "stream",
     "text": [
      "Model: KNeighborsClassifier(n_neighbors=3) CV Score: 0.8155136578860327\n",
      "Model: SVC() CV Score: 0.8177664769753827\n",
      "Model: DecisionTreeClassifier() CV Score: 0.7857339496259389\n",
      "Model: RandomForestClassifier() CV Score: 0.8386162313037065\n"
     ]
    }
   ],
   "source": [
    "# Comparing models\n",
    "# RandomForest has higher chance of classifying random positive higher than negative\n",
    "for model in models:\n",
    "    train(model)"
   ]
  },
  {
   "cell_type": "code",
   "execution_count": 15,
   "id": "minimal-backup",
   "metadata": {
    "execution": {
     "iopub.execute_input": "2021-09-05T07:37:14.210706Z",
     "iopub.status.busy": "2021-09-05T07:37:14.209651Z",
     "iopub.status.idle": "2021-09-05T07:37:14.215769Z",
     "shell.execute_reply": "2021-09-05T07:37:14.215207Z",
     "shell.execute_reply.started": "2021-09-05T07:36:39.931653Z"
    },
    "papermill": {
     "duration": 0.038355,
     "end_time": "2021-09-05T07:37:14.215924",
     "exception": false,
     "start_time": "2021-09-05T07:37:14.177569",
     "status": "completed"
    },
    "tags": []
   },
   "outputs": [],
   "source": [
    "# Splitting dataset\n",
    "X_train, X_test, y_train, y_test = train_test_split(X, y, test_size=0.2, random_state=42)"
   ]
  },
  {
   "cell_type": "code",
   "execution_count": 16,
   "id": "agreed-dynamics",
   "metadata": {
    "execution": {
     "iopub.execute_input": "2021-09-05T07:37:14.273506Z",
     "iopub.status.busy": "2021-09-05T07:37:14.272814Z",
     "iopub.status.idle": "2021-09-05T07:37:14.510166Z",
     "shell.execute_reply": "2021-09-05T07:37:14.509655Z",
     "shell.execute_reply.started": "2021-09-05T07:36:39.939994Z"
    },
    "papermill": {
     "duration": 0.267456,
     "end_time": "2021-09-05T07:37:14.510353",
     "exception": false,
     "start_time": "2021-09-05T07:37:14.242897",
     "status": "completed"
    },
    "tags": []
   },
   "outputs": [
    {
     "data": {
      "text/plain": [
       "0.7932960893854749"
      ]
     },
     "execution_count": 16,
     "metadata": {},
     "output_type": "execute_result"
    }
   ],
   "source": [
    "# Random forest clf accuracy\n",
    "model = RandomForestClassifier()\n",
    "model.fit(X_train, y_train)\n",
    "y_pred = model.predict(X_test)\n",
    "acc = accuracy_score(y_pred, y_test)\n",
    "acc"
   ]
  },
  {
   "cell_type": "code",
   "execution_count": 17,
   "id": "passing-charlotte",
   "metadata": {
    "execution": {
     "iopub.execute_input": "2021-09-05T07:37:14.572276Z",
     "iopub.status.busy": "2021-09-05T07:37:14.571581Z",
     "iopub.status.idle": "2021-09-05T07:37:14.608460Z",
     "shell.execute_reply": "2021-09-05T07:37:14.609308Z",
     "shell.execute_reply.started": "2021-09-05T07:36:40.130577Z"
    },
    "papermill": {
     "duration": 0.071934,
     "end_time": "2021-09-05T07:37:14.609580",
     "exception": false,
     "start_time": "2021-09-05T07:37:14.537646",
     "status": "completed"
    },
    "tags": []
   },
   "outputs": [
    {
     "data": {
      "text/plain": [
       "0.7988826815642458"
      ]
     },
     "execution_count": 17,
     "metadata": {},
     "output_type": "execute_result"
    }
   ],
   "source": [
    "# KNN accuracy\n",
    "model = KNeighborsClassifier()\n",
    "model.fit(X_train, y_train)\n",
    "y_pred = model.predict(X_test)\n",
    "acc = accuracy_score(y_pred, y_test)\n",
    "acc"
   ]
  },
  {
   "cell_type": "code",
   "execution_count": 18,
   "id": "illegal-warrior",
   "metadata": {
    "execution": {
     "iopub.execute_input": "2021-09-05T07:37:14.710020Z",
     "iopub.status.busy": "2021-09-05T07:37:14.709350Z",
     "iopub.status.idle": "2021-09-05T07:37:14.716909Z",
     "shell.execute_reply": "2021-09-05T07:37:14.717470Z",
     "shell.execute_reply.started": "2021-09-05T07:36:40.163446Z"
    },
    "papermill": {
     "duration": 0.059559,
     "end_time": "2021-09-05T07:37:14.717644",
     "exception": false,
     "start_time": "2021-09-05T07:37:14.658085",
     "status": "completed"
    },
    "tags": []
   },
   "outputs": [
    {
     "data": {
      "text/plain": [
       "0.7932960893854749"
      ]
     },
     "execution_count": 18,
     "metadata": {},
     "output_type": "execute_result"
    }
   ],
   "source": [
    "# Decision tree clf accuracy\n",
    "model = DecisionTreeClassifier()\n",
    "model.fit(X_train, y_train)\n",
    "y_pred = model.predict(X_test)\n",
    "acc = accuracy_score(y_pred, y_test)\n",
    "acc"
   ]
  },
  {
   "cell_type": "code",
   "execution_count": 19,
   "id": "common-offering",
   "metadata": {
    "execution": {
     "iopub.execute_input": "2021-09-05T07:37:14.776679Z",
     "iopub.status.busy": "2021-09-05T07:37:14.775983Z",
     "iopub.status.idle": "2021-09-05T07:37:14.783090Z",
     "shell.execute_reply": "2021-09-05T07:37:14.783646Z",
     "shell.execute_reply.started": "2021-09-05T07:36:40.181279Z"
    },
    "papermill": {
     "duration": 0.038322,
     "end_time": "2021-09-05T07:37:14.783813",
     "exception": false,
     "start_time": "2021-09-05T07:37:14.745491",
     "status": "completed"
    },
    "tags": []
   },
   "outputs": [
    {
     "data": {
      "text/plain": [
       "PassengerId      0\n",
       "Pclass           0\n",
       "Name             0\n",
       "Sex              0\n",
       "Age             86\n",
       "SibSp            0\n",
       "Parch            0\n",
       "Ticket           0\n",
       "Fare             1\n",
       "Cabin          327\n",
       "Embarked         0\n",
       "dtype: int64"
      ]
     },
     "execution_count": 19,
     "metadata": {},
     "output_type": "execute_result"
    }
   ],
   "source": [
    "# Seeing if test has nulls\n",
    "test.isnull().sum()"
   ]
  },
  {
   "cell_type": "code",
   "execution_count": 20,
   "id": "macro-attempt",
   "metadata": {
    "execution": {
     "iopub.execute_input": "2021-09-05T07:37:14.845139Z",
     "iopub.status.busy": "2021-09-05T07:37:14.844138Z",
     "iopub.status.idle": "2021-09-05T07:37:14.859506Z",
     "shell.execute_reply": "2021-09-05T07:37:14.859983Z",
     "shell.execute_reply.started": "2021-09-05T07:36:40.192170Z"
    },
    "papermill": {
     "duration": 0.047512,
     "end_time": "2021-09-05T07:37:14.860163",
     "exception": false,
     "start_time": "2021-09-05T07:37:14.812651",
     "status": "completed"
    },
    "tags": []
   },
   "outputs": [
    {
     "data": {
      "text/html": [
       "<div>\n",
       "<style scoped>\n",
       "    .dataframe tbody tr th:only-of-type {\n",
       "        vertical-align: middle;\n",
       "    }\n",
       "\n",
       "    .dataframe tbody tr th {\n",
       "        vertical-align: top;\n",
       "    }\n",
       "\n",
       "    .dataframe thead th {\n",
       "        text-align: right;\n",
       "    }\n",
       "</style>\n",
       "<table border=\"1\" class=\"dataframe\">\n",
       "  <thead>\n",
       "    <tr style=\"text-align: right;\">\n",
       "      <th></th>\n",
       "      <th>PassengerId</th>\n",
       "      <th>Pclass</th>\n",
       "      <th>Name</th>\n",
       "      <th>Sex</th>\n",
       "      <th>Age</th>\n",
       "      <th>SibSp</th>\n",
       "      <th>Parch</th>\n",
       "      <th>Ticket</th>\n",
       "      <th>Fare</th>\n",
       "      <th>Cabin</th>\n",
       "      <th>Embarked</th>\n",
       "    </tr>\n",
       "  </thead>\n",
       "  <tbody>\n",
       "    <tr>\n",
       "      <th>152</th>\n",
       "      <td>1044</td>\n",
       "      <td>3</td>\n",
       "      <td>Storey, Mr. Thomas</td>\n",
       "      <td>male</td>\n",
       "      <td>60.5</td>\n",
       "      <td>0</td>\n",
       "      <td>0</td>\n",
       "      <td>3701</td>\n",
       "      <td>NaN</td>\n",
       "      <td>NaN</td>\n",
       "      <td>S</td>\n",
       "    </tr>\n",
       "  </tbody>\n",
       "</table>\n",
       "</div>"
      ],
      "text/plain": [
       "     PassengerId  Pclass                Name   Sex   Age  SibSp  Parch Ticket  \\\n",
       "152         1044       3  Storey, Mr. Thomas  male  60.5      0      0   3701   \n",
       "\n",
       "     Fare Cabin Embarked  \n",
       "152   NaN   NaN        S  "
      ]
     },
     "execution_count": 20,
     "metadata": {},
     "output_type": "execute_result"
    }
   ],
   "source": [
    "# P class of null is 3\n",
    "null = test[test['Fare'].isnull()]\n",
    "null"
   ]
  },
  {
   "cell_type": "code",
   "execution_count": 21,
   "id": "indoor-holiday",
   "metadata": {
    "execution": {
     "iopub.execute_input": "2021-09-05T07:37:14.922100Z",
     "iopub.status.busy": "2021-09-05T07:37:14.921134Z",
     "iopub.status.idle": "2021-09-05T07:37:14.953549Z",
     "shell.execute_reply": "2021-09-05T07:37:14.954054Z",
     "shell.execute_reply.started": "2021-09-05T07:36:40.217227Z"
    },
    "papermill": {
     "duration": 0.065506,
     "end_time": "2021-09-05T07:37:14.954243",
     "exception": false,
     "start_time": "2021-09-05T07:37:14.888737",
     "status": "completed"
    },
    "tags": []
   },
   "outputs": [
    {
     "data": {
      "text/html": [
       "<div>\n",
       "<style scoped>\n",
       "    .dataframe tbody tr th:only-of-type {\n",
       "        vertical-align: middle;\n",
       "    }\n",
       "\n",
       "    .dataframe tbody tr th {\n",
       "        vertical-align: top;\n",
       "    }\n",
       "\n",
       "    .dataframe thead th {\n",
       "        text-align: right;\n",
       "    }\n",
       "</style>\n",
       "<table border=\"1\" class=\"dataframe\">\n",
       "  <thead>\n",
       "    <tr style=\"text-align: right;\">\n",
       "      <th></th>\n",
       "      <th>Fare</th>\n",
       "      <th>Sex_male</th>\n",
       "      <th>Pclass_2</th>\n",
       "      <th>Pclass_3</th>\n",
       "      <th>SibSp_1</th>\n",
       "      <th>SibSp_2</th>\n",
       "      <th>SibSp_3</th>\n",
       "      <th>SibSp_4</th>\n",
       "      <th>SibSp_5</th>\n",
       "      <th>SibSp_8</th>\n",
       "      <th>Parch_1</th>\n",
       "      <th>Parch_2</th>\n",
       "      <th>Parch_3</th>\n",
       "      <th>Parch_4</th>\n",
       "      <th>Parch_5</th>\n",
       "      <th>Parch_6</th>\n",
       "      <th>Parch_9</th>\n",
       "    </tr>\n",
       "  </thead>\n",
       "  <tbody>\n",
       "    <tr>\n",
       "      <th>0</th>\n",
       "      <td>0.015282</td>\n",
       "      <td>1</td>\n",
       "      <td>0</td>\n",
       "      <td>1</td>\n",
       "      <td>0</td>\n",
       "      <td>0</td>\n",
       "      <td>0</td>\n",
       "      <td>0</td>\n",
       "      <td>0</td>\n",
       "      <td>0</td>\n",
       "      <td>0</td>\n",
       "      <td>0</td>\n",
       "      <td>0</td>\n",
       "      <td>0</td>\n",
       "      <td>0</td>\n",
       "      <td>0</td>\n",
       "      <td>0</td>\n",
       "    </tr>\n",
       "    <tr>\n",
       "      <th>1</th>\n",
       "      <td>0.013663</td>\n",
       "      <td>0</td>\n",
       "      <td>0</td>\n",
       "      <td>1</td>\n",
       "      <td>1</td>\n",
       "      <td>0</td>\n",
       "      <td>0</td>\n",
       "      <td>0</td>\n",
       "      <td>0</td>\n",
       "      <td>0</td>\n",
       "      <td>0</td>\n",
       "      <td>0</td>\n",
       "      <td>0</td>\n",
       "      <td>0</td>\n",
       "      <td>0</td>\n",
       "      <td>0</td>\n",
       "      <td>0</td>\n",
       "    </tr>\n",
       "    <tr>\n",
       "      <th>2</th>\n",
       "      <td>0.018909</td>\n",
       "      <td>1</td>\n",
       "      <td>1</td>\n",
       "      <td>0</td>\n",
       "      <td>0</td>\n",
       "      <td>0</td>\n",
       "      <td>0</td>\n",
       "      <td>0</td>\n",
       "      <td>0</td>\n",
       "      <td>0</td>\n",
       "      <td>0</td>\n",
       "      <td>0</td>\n",
       "      <td>0</td>\n",
       "      <td>0</td>\n",
       "      <td>0</td>\n",
       "      <td>0</td>\n",
       "      <td>0</td>\n",
       "    </tr>\n",
       "    <tr>\n",
       "      <th>3</th>\n",
       "      <td>0.016908</td>\n",
       "      <td>1</td>\n",
       "      <td>0</td>\n",
       "      <td>1</td>\n",
       "      <td>0</td>\n",
       "      <td>0</td>\n",
       "      <td>0</td>\n",
       "      <td>0</td>\n",
       "      <td>0</td>\n",
       "      <td>0</td>\n",
       "      <td>0</td>\n",
       "      <td>0</td>\n",
       "      <td>0</td>\n",
       "      <td>0</td>\n",
       "      <td>0</td>\n",
       "      <td>0</td>\n",
       "      <td>0</td>\n",
       "    </tr>\n",
       "    <tr>\n",
       "      <th>4</th>\n",
       "      <td>0.023984</td>\n",
       "      <td>0</td>\n",
       "      <td>0</td>\n",
       "      <td>1</td>\n",
       "      <td>1</td>\n",
       "      <td>0</td>\n",
       "      <td>0</td>\n",
       "      <td>0</td>\n",
       "      <td>0</td>\n",
       "      <td>0</td>\n",
       "      <td>1</td>\n",
       "      <td>0</td>\n",
       "      <td>0</td>\n",
       "      <td>0</td>\n",
       "      <td>0</td>\n",
       "      <td>0</td>\n",
       "      <td>0</td>\n",
       "    </tr>\n",
       "  </tbody>\n",
       "</table>\n",
       "</div>"
      ],
      "text/plain": [
       "       Fare  Sex_male  Pclass_2  Pclass_3  SibSp_1  SibSp_2  SibSp_3  SibSp_4  \\\n",
       "0  0.015282         1         0         1        0        0        0        0   \n",
       "1  0.013663         0         0         1        1        0        0        0   \n",
       "2  0.018909         1         1         0        0        0        0        0   \n",
       "3  0.016908         1         0         1        0        0        0        0   \n",
       "4  0.023984         0         0         1        1        0        0        0   \n",
       "\n",
       "   SibSp_5  SibSp_8  Parch_1  Parch_2  Parch_3  Parch_4  Parch_5  Parch_6  \\\n",
       "0        0        0        0        0        0        0        0        0   \n",
       "1        0        0        0        0        0        0        0        0   \n",
       "2        0        0        0        0        0        0        0        0   \n",
       "3        0        0        0        0        0        0        0        0   \n",
       "4        0        0        1        0        0        0        0        0   \n",
       "\n",
       "   Parch_9  \n",
       "0        0  \n",
       "1        0  \n",
       "2        0  \n",
       "3        0  \n",
       "4        0  "
      ]
     },
     "execution_count": 21,
     "metadata": {},
     "output_type": "execute_result"
    }
   ],
   "source": [
    "# Preparing test df and saving id\n",
    "submission_df = test.filter(['PassengerId'])\n",
    "test = test.drop(columns=['PassengerId', 'Name', 'Age', 'Ticket', 'Cabin', 'Embarked'])\n",
    "\n",
    "cols = ['Sex', 'Pclass', 'SibSp', 'Parch']\n",
    "\n",
    "for col in cols:\n",
    "    test[col] = test[col].astype('category')\n",
    "\n",
    "cols = ['Sex', 'Pclass', 'SibSp', 'Parch']\n",
    "\n",
    "for col in cols:\n",
    "    test = pd.concat([test, pd.get_dummies(test[col], prefix=col, drop_first=True)], axis=1)\n",
    "test = test.drop(columns=cols)\n",
    "test['Fare'] = (test['Fare'] - test['Fare'].min()) / (test['Fare'].max() - test['Fare'].min())\n",
    "test.head()"
   ]
  },
  {
   "cell_type": "code",
   "execution_count": 22,
   "id": "complimentary-cruise",
   "metadata": {
    "execution": {
     "iopub.execute_input": "2021-09-05T07:37:15.021252Z",
     "iopub.status.busy": "2021-09-05T07:37:15.020449Z",
     "iopub.status.idle": "2021-09-05T07:37:15.023763Z",
     "shell.execute_reply": "2021-09-05T07:37:15.023069Z",
     "shell.execute_reply.started": "2021-09-05T07:36:40.264640Z"
    },
    "papermill": {
     "duration": 0.040336,
     "end_time": "2021-09-05T07:37:15.023914",
     "exception": false,
     "start_time": "2021-09-05T07:37:14.983578",
     "status": "completed"
    },
    "tags": []
   },
   "outputs": [],
   "source": [
    "# Dropping column to match training set\n",
    "test = test.drop(columns=['Parch_9'])"
   ]
  },
  {
   "cell_type": "code",
   "execution_count": 23,
   "id": "drawn-father",
   "metadata": {
    "execution": {
     "iopub.execute_input": "2021-09-05T07:37:15.095749Z",
     "iopub.status.busy": "2021-09-05T07:37:15.093604Z",
     "iopub.status.idle": "2021-09-05T07:37:15.151949Z",
     "shell.execute_reply": "2021-09-05T07:37:15.151266Z",
     "shell.execute_reply.started": "2021-09-05T07:36:40.270596Z"
    },
    "papermill": {
     "duration": 0.099097,
     "end_time": "2021-09-05T07:37:15.152116",
     "exception": false,
     "start_time": "2021-09-05T07:37:15.053019",
     "status": "completed"
    },
    "tags": []
   },
   "outputs": [
    {
     "data": {
      "text/html": [
       "<div>\n",
       "<style scoped>\n",
       "    .dataframe tbody tr th:only-of-type {\n",
       "        vertical-align: middle;\n",
       "    }\n",
       "\n",
       "    .dataframe tbody tr th {\n",
       "        vertical-align: top;\n",
       "    }\n",
       "\n",
       "    .dataframe thead th {\n",
       "        text-align: right;\n",
       "    }\n",
       "</style>\n",
       "<table border=\"1\" class=\"dataframe\">\n",
       "  <thead>\n",
       "    <tr style=\"text-align: right;\">\n",
       "      <th></th>\n",
       "      <th>Fare</th>\n",
       "      <th>Sex_male</th>\n",
       "      <th>Pclass_2</th>\n",
       "      <th>Pclass_3</th>\n",
       "      <th>SibSp_1</th>\n",
       "      <th>SibSp_2</th>\n",
       "      <th>SibSp_3</th>\n",
       "      <th>SibSp_4</th>\n",
       "      <th>SibSp_5</th>\n",
       "      <th>SibSp_8</th>\n",
       "      <th>Parch_1</th>\n",
       "      <th>Parch_2</th>\n",
       "      <th>Parch_3</th>\n",
       "      <th>Parch_4</th>\n",
       "      <th>Parch_5</th>\n",
       "      <th>Parch_6</th>\n",
       "    </tr>\n",
       "  </thead>\n",
       "  <tbody>\n",
       "    <tr>\n",
       "      <th>count</th>\n",
       "      <td>217.000000</td>\n",
       "      <td>218.000000</td>\n",
       "      <td>218.0</td>\n",
       "      <td>218.0</td>\n",
       "      <td>218.000000</td>\n",
       "      <td>218.000000</td>\n",
       "      <td>218.000000</td>\n",
       "      <td>218.000000</td>\n",
       "      <td>218.000000</td>\n",
       "      <td>218.000000</td>\n",
       "      <td>218.000000</td>\n",
       "      <td>218.000000</td>\n",
       "      <td>218.0</td>\n",
       "      <td>218.000000</td>\n",
       "      <td>218.000000</td>\n",
       "      <td>218.000000</td>\n",
       "    </tr>\n",
       "    <tr>\n",
       "      <th>mean</th>\n",
       "      <td>0.024320</td>\n",
       "      <td>0.669725</td>\n",
       "      <td>0.0</td>\n",
       "      <td>1.0</td>\n",
       "      <td>0.188073</td>\n",
       "      <td>0.032110</td>\n",
       "      <td>0.013761</td>\n",
       "      <td>0.018349</td>\n",
       "      <td>0.004587</td>\n",
       "      <td>0.009174</td>\n",
       "      <td>0.100917</td>\n",
       "      <td>0.082569</td>\n",
       "      <td>0.0</td>\n",
       "      <td>0.004587</td>\n",
       "      <td>0.004587</td>\n",
       "      <td>0.004587</td>\n",
       "    </tr>\n",
       "    <tr>\n",
       "      <th>std</th>\n",
       "      <td>0.021087</td>\n",
       "      <td>0.471395</td>\n",
       "      <td>0.0</td>\n",
       "      <td>0.0</td>\n",
       "      <td>0.391670</td>\n",
       "      <td>0.176698</td>\n",
       "      <td>0.116767</td>\n",
       "      <td>0.134517</td>\n",
       "      <td>0.067729</td>\n",
       "      <td>0.095562</td>\n",
       "      <td>0.301913</td>\n",
       "      <td>0.275863</td>\n",
       "      <td>0.0</td>\n",
       "      <td>0.067729</td>\n",
       "      <td>0.067729</td>\n",
       "      <td>0.067729</td>\n",
       "    </tr>\n",
       "    <tr>\n",
       "      <th>min</th>\n",
       "      <td>0.006189</td>\n",
       "      <td>0.000000</td>\n",
       "      <td>0.0</td>\n",
       "      <td>1.0</td>\n",
       "      <td>0.000000</td>\n",
       "      <td>0.000000</td>\n",
       "      <td>0.000000</td>\n",
       "      <td>0.000000</td>\n",
       "      <td>0.000000</td>\n",
       "      <td>0.000000</td>\n",
       "      <td>0.000000</td>\n",
       "      <td>0.000000</td>\n",
       "      <td>0.0</td>\n",
       "      <td>0.000000</td>\n",
       "      <td>0.000000</td>\n",
       "      <td>0.000000</td>\n",
       "    </tr>\n",
       "    <tr>\n",
       "      <th>25%</th>\n",
       "      <td>0.015127</td>\n",
       "      <td>0.000000</td>\n",
       "      <td>0.0</td>\n",
       "      <td>1.0</td>\n",
       "      <td>0.000000</td>\n",
       "      <td>0.000000</td>\n",
       "      <td>0.000000</td>\n",
       "      <td>0.000000</td>\n",
       "      <td>0.000000</td>\n",
       "      <td>0.000000</td>\n",
       "      <td>0.000000</td>\n",
       "      <td>0.000000</td>\n",
       "      <td>0.0</td>\n",
       "      <td>0.000000</td>\n",
       "      <td>0.000000</td>\n",
       "      <td>0.000000</td>\n",
       "    </tr>\n",
       "    <tr>\n",
       "      <th>50%</th>\n",
       "      <td>0.015412</td>\n",
       "      <td>1.000000</td>\n",
       "      <td>0.0</td>\n",
       "      <td>1.0</td>\n",
       "      <td>0.000000</td>\n",
       "      <td>0.000000</td>\n",
       "      <td>0.000000</td>\n",
       "      <td>0.000000</td>\n",
       "      <td>0.000000</td>\n",
       "      <td>0.000000</td>\n",
       "      <td>0.000000</td>\n",
       "      <td>0.000000</td>\n",
       "      <td>0.0</td>\n",
       "      <td>0.000000</td>\n",
       "      <td>0.000000</td>\n",
       "      <td>0.000000</td>\n",
       "    </tr>\n",
       "    <tr>\n",
       "      <th>75%</th>\n",
       "      <td>0.028107</td>\n",
       "      <td>1.000000</td>\n",
       "      <td>0.0</td>\n",
       "      <td>1.0</td>\n",
       "      <td>0.000000</td>\n",
       "      <td>0.000000</td>\n",
       "      <td>0.000000</td>\n",
       "      <td>0.000000</td>\n",
       "      <td>0.000000</td>\n",
       "      <td>0.000000</td>\n",
       "      <td>0.000000</td>\n",
       "      <td>0.000000</td>\n",
       "      <td>0.0</td>\n",
       "      <td>0.000000</td>\n",
       "      <td>0.000000</td>\n",
       "      <td>0.000000</td>\n",
       "    </tr>\n",
       "    <tr>\n",
       "      <th>max</th>\n",
       "      <td>0.135753</td>\n",
       "      <td>1.000000</td>\n",
       "      <td>0.0</td>\n",
       "      <td>1.0</td>\n",
       "      <td>1.000000</td>\n",
       "      <td>1.000000</td>\n",
       "      <td>1.000000</td>\n",
       "      <td>1.000000</td>\n",
       "      <td>1.000000</td>\n",
       "      <td>1.000000</td>\n",
       "      <td>1.000000</td>\n",
       "      <td>1.000000</td>\n",
       "      <td>0.0</td>\n",
       "      <td>1.000000</td>\n",
       "      <td>1.000000</td>\n",
       "      <td>1.000000</td>\n",
       "    </tr>\n",
       "  </tbody>\n",
       "</table>\n",
       "</div>"
      ],
      "text/plain": [
       "             Fare    Sex_male  Pclass_2  Pclass_3     SibSp_1     SibSp_2  \\\n",
       "count  217.000000  218.000000     218.0     218.0  218.000000  218.000000   \n",
       "mean     0.024320    0.669725       0.0       1.0    0.188073    0.032110   \n",
       "std      0.021087    0.471395       0.0       0.0    0.391670    0.176698   \n",
       "min      0.006189    0.000000       0.0       1.0    0.000000    0.000000   \n",
       "25%      0.015127    0.000000       0.0       1.0    0.000000    0.000000   \n",
       "50%      0.015412    1.000000       0.0       1.0    0.000000    0.000000   \n",
       "75%      0.028107    1.000000       0.0       1.0    0.000000    0.000000   \n",
       "max      0.135753    1.000000       0.0       1.0    1.000000    1.000000   \n",
       "\n",
       "          SibSp_3     SibSp_4     SibSp_5     SibSp_8     Parch_1     Parch_2  \\\n",
       "count  218.000000  218.000000  218.000000  218.000000  218.000000  218.000000   \n",
       "mean     0.013761    0.018349    0.004587    0.009174    0.100917    0.082569   \n",
       "std      0.116767    0.134517    0.067729    0.095562    0.301913    0.275863   \n",
       "min      0.000000    0.000000    0.000000    0.000000    0.000000    0.000000   \n",
       "25%      0.000000    0.000000    0.000000    0.000000    0.000000    0.000000   \n",
       "50%      0.000000    0.000000    0.000000    0.000000    0.000000    0.000000   \n",
       "75%      0.000000    0.000000    0.000000    0.000000    0.000000    0.000000   \n",
       "max      1.000000    1.000000    1.000000    1.000000    1.000000    1.000000   \n",
       "\n",
       "       Parch_3     Parch_4     Parch_5     Parch_6  \n",
       "count    218.0  218.000000  218.000000  218.000000  \n",
       "mean       0.0    0.004587    0.004587    0.004587  \n",
       "std        0.0    0.067729    0.067729    0.067729  \n",
       "min        0.0    0.000000    0.000000    0.000000  \n",
       "25%        0.0    0.000000    0.000000    0.000000  \n",
       "50%        0.0    0.000000    0.000000    0.000000  \n",
       "75%        0.0    0.000000    0.000000    0.000000  \n",
       "max        0.0    1.000000    1.000000    1.000000  "
      ]
     },
     "execution_count": 23,
     "metadata": {},
     "output_type": "execute_result"
    }
   ],
   "source": [
    "# Getting mean for the null value given Pclass is 3\n",
    "p_class_3 = test.loc[test['Pclass_3'] == 1]\n",
    "p_class_3.describe()"
   ]
  },
  {
   "cell_type": "code",
   "execution_count": 24,
   "id": "cooperative-denver",
   "metadata": {
    "execution": {
     "iopub.execute_input": "2021-09-05T07:37:15.217383Z",
     "iopub.status.busy": "2021-09-05T07:37:15.216689Z",
     "iopub.status.idle": "2021-09-05T07:37:15.219422Z",
     "shell.execute_reply": "2021-09-05T07:37:15.219878Z",
     "shell.execute_reply.started": "2021-09-05T07:36:40.333368Z"
    },
    "papermill": {
     "duration": 0.038104,
     "end_time": "2021-09-05T07:37:15.220064",
     "exception": false,
     "start_time": "2021-09-05T07:37:15.181960",
     "status": "completed"
    },
    "tags": []
   },
   "outputs": [],
   "source": [
    "# Filling 1 null value with mean\n",
    "test['Fare'].fillna(0.24520, inplace=True)"
   ]
  },
  {
   "cell_type": "code",
   "execution_count": 25,
   "id": "explicit-singing",
   "metadata": {
    "execution": {
     "iopub.execute_input": "2021-09-05T07:37:15.286375Z",
     "iopub.status.busy": "2021-09-05T07:37:15.285708Z",
     "iopub.status.idle": "2021-09-05T07:37:15.525098Z",
     "shell.execute_reply": "2021-09-05T07:37:15.524519Z",
     "shell.execute_reply.started": "2021-09-05T07:36:40.338901Z"
    },
    "papermill": {
     "duration": 0.27565,
     "end_time": "2021-09-05T07:37:15.525282",
     "exception": false,
     "start_time": "2021-09-05T07:37:15.249632",
     "status": "completed"
    },
    "tags": []
   },
   "outputs": [],
   "source": [
    "# Choosing Random forest clf\n",
    "model = RandomForestClassifier()\n",
    "model.fit(X_train, y_train)\n",
    "pred = model.predict(test)"
   ]
  },
  {
   "cell_type": "code",
   "execution_count": 26,
   "id": "painful-scottish",
   "metadata": {
    "execution": {
     "iopub.execute_input": "2021-09-05T07:37:15.592443Z",
     "iopub.status.busy": "2021-09-05T07:37:15.591445Z",
     "iopub.status.idle": "2021-09-05T07:37:15.595938Z",
     "shell.execute_reply": "2021-09-05T07:37:15.595418Z",
     "shell.execute_reply.started": "2021-09-05T07:36:40.537450Z"
    },
    "papermill": {
     "duration": 0.040994,
     "end_time": "2021-09-05T07:37:15.596098",
     "exception": false,
     "start_time": "2021-09-05T07:37:15.555104",
     "status": "completed"
    },
    "tags": []
   },
   "outputs": [
    {
     "data": {
      "text/plain": [
       "(418, 2)"
      ]
     },
     "execution_count": 26,
     "metadata": {},
     "output_type": "execute_result"
    }
   ],
   "source": [
    "submission_df['Survived'] = pred\n",
    "submission_df.shape"
   ]
  },
  {
   "cell_type": "code",
   "execution_count": 27,
   "id": "twelve-guatemala",
   "metadata": {
    "execution": {
     "iopub.execute_input": "2021-09-05T07:37:15.661311Z",
     "iopub.status.busy": "2021-09-05T07:37:15.660623Z",
     "iopub.status.idle": "2021-09-05T07:37:15.668385Z",
     "shell.execute_reply": "2021-09-05T07:37:15.667669Z",
     "shell.execute_reply.started": "2021-09-05T07:36:40.546104Z"
    },
    "papermill": {
     "duration": 0.04241,
     "end_time": "2021-09-05T07:37:15.668536",
     "exception": false,
     "start_time": "2021-09-05T07:37:15.626126",
     "status": "completed"
    },
    "tags": []
   },
   "outputs": [],
   "source": [
    "submission_df.to_csv('gender_submissions.csv', index=False)"
   ]
  }
 ],
 "metadata": {
  "kernelspec": {
   "display_name": "Python 3",
   "language": "python",
   "name": "python3"
  },
  "language_info": {
   "codemirror_mode": {
    "name": "ipython",
    "version": 3
   },
   "file_extension": ".py",
   "mimetype": "text/x-python",
   "name": "python",
   "nbconvert_exporter": "python",
   "pygments_lexer": "ipython3",
   "version": "3.7.10"
  },
  "papermill": {
   "default_parameters": {},
   "duration": 14.928657,
   "end_time": "2021-09-05T07:37:17.008891",
   "environment_variables": {},
   "exception": null,
   "input_path": "__notebook__.ipynb",
   "output_path": "__notebook__.ipynb",
   "parameters": {},
   "start_time": "2021-09-05T07:37:02.080234",
   "version": "2.3.3"
  }
 },
 "nbformat": 4,
 "nbformat_minor": 5
}
