{
 "cells": [
  {
   "cell_type": "code",
   "execution_count": 1,
   "id": "99a34b84",
   "metadata": {},
   "outputs": [],
   "source": [
    "                 #players %win  #fans in mil\n",
    "input_to_hid = [ [0.1, 0.2, -0.1], # hid[0]\n",
    "                 [-0.1, 0.1, 0.9], # hid[1]\n",
    "                 [0.1, 0.4, 0.1] ] # hid[2]\n",
    "\n",
    "                #hid[0] hid[1] hid[2]\n",
    "hidden_to_pred = [ [0.3, 1.1, -0.3], # hurt?\n",
    "                   [0.1, 0.2, 0.0],  # win? \n",
    "                   [0.0, 1.3, 0.1] ] # sad?\n",
    "\n",
    "weights = [input_to_hid, hidden_to_pred]"
   ]
  },
  {
   "cell_type": "code",
   "execution_count": 2,
   "id": "5a466040",
   "metadata": {},
   "outputs": [],
   "source": [
    "def weighted_sum(a, b):\n",
    "    assert(len(a) == len(b))   \n",
    "    output = 0 \n",
    "    \n",
    "    for i in range(len(a)):\n",
    "        output += a[i] * b[i]\n",
    "        \n",
    "    return output"
   ]
  },
  {
   "cell_type": "code",
   "execution_count": 3,
   "id": "598bba4e",
   "metadata": {},
   "outputs": [],
   "source": [
    "def vect_mat_mult(vect, matrix): \n",
    "    assert(len(vect) == len(matrix))\n",
    "    output = [0, 0, 0]\n",
    "    \n",
    "    for i in range(len(vect)): \n",
    "        output[i] = weighted_sum(vect, matrix[i])\n",
    "    \n",
    "    return output"
   ]
  },
  {
   "cell_type": "code",
   "execution_count": 4,
   "id": "12a0e61a",
   "metadata": {},
   "outputs": [],
   "source": [
    "def neural_network(input, weights):\n",
    "    hid = vect_mat_mult(input, weights[0])\n",
    "    preds = vect_mat_mult(hid, weights[1])\n",
    "    return preds"
   ]
  },
  {
   "cell_type": "code",
   "execution_count": 5,
   "id": "c7efcde9",
   "metadata": {},
   "outputs": [],
   "source": [
    "players = [10.5, 14.5, 12, 11] \n",
    "wlrec = [0.65, 0.8, 0.8, 0.9]\n",
    "mil_fans = [1.2, 1.3, 0.5, 1.0]"
   ]
  },
  {
   "cell_type": "code",
   "execution_count": 6,
   "id": "b9597cef",
   "metadata": {},
   "outputs": [],
   "source": [
    "input = [players[0], wlrec[0], mil_fans[0]]"
   ]
  },
  {
   "cell_type": "code",
   "execution_count": 7,
   "id": "5578b1b1",
   "metadata": {},
   "outputs": [
    {
     "name": "stdout",
     "output_type": "stream",
     "text": [
      "[-0.006500000000000061, 0.125, 0.26649999999999996]\n"
     ]
    }
   ],
   "source": [
    "preds = neural_network(input, weights)\n",
    "print(preds)"
   ]
  },
  {
   "cell_type": "code",
   "execution_count": null,
   "id": "91908a3a",
   "metadata": {},
   "outputs": [],
   "source": []
  }
 ],
 "metadata": {
  "kernelspec": {
   "display_name": "Python 3",
   "language": "python",
   "name": "python3"
  },
  "language_info": {
   "codemirror_mode": {
    "name": "ipython",
    "version": 3
   },
   "file_extension": ".py",
   "mimetype": "text/x-python",
   "name": "python",
   "nbconvert_exporter": "python",
   "pygments_lexer": "ipython3",
   "version": "3.8.8"
  }
 },
 "nbformat": 4,
 "nbformat_minor": 5
}
